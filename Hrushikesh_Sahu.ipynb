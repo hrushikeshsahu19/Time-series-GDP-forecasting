{
  "nbformat": 4,
  "nbformat_minor": 0,
  "metadata": {
    "colab": {
      "name": "Hrushikesh_Sahu.ipynb",
      "provenance": [],
      "collapsed_sections": []
    },
    "kernelspec": {
      "name": "python3",
      "display_name": "Python 3"
    },
    "language_info": {
      "name": "python"
    }
  },
  "cells": [
    {
      "cell_type": "code",
      "metadata": {
        "id": "vqgy-auT33j9"
      },
      "source": [
        "# Importing necessary libraries\n",
        "from statsmodels.graphics.tsaplots import plot_acf, plot_pacf\n",
        "from statsmodels.tsa.statespace.varmax import VARMAX\n",
        "from statsmodels.tsa.api import VAR\n",
        "from statsmodels.tsa.stattools import grangercausalitytests, adfuller\n",
        "from tqdm import tqdm_notebook\n",
        "from itertools import product\n",
        "\n",
        "import matplotlib.pyplot as plt\n",
        "import statsmodels.api as sm\n",
        "import pandas as pd\n",
        "import numpy as np\n",
        "\n",
        "import warnings\n",
        "warnings.filterwarnings('ignore')"
      ],
      "execution_count": null,
      "outputs": []
    },
    {
      "cell_type": "code",
      "metadata": {
        "id": "V1A39kR1spus"
      },
      "source": [
        "#load the Dataset\n",
        "import pandas as pd\n",
        "df=pd.read_csv('/content/drive/MyDrive/almabetter/Dataset.csv')"
      ],
      "execution_count": null,
      "outputs": []
    },
    {
      "cell_type": "code",
      "metadata": {
        "colab": {
          "base_uri": "https://localhost:8080/",
          "height": 202
        },
        "id": "XTuut8L7sp5C",
        "outputId": "5bd7f1ae-7ee9-4c5d-f1c3-80d3fcc05a45"
      },
      "source": [
        "df.head()"
      ],
      "execution_count": null,
      "outputs": [
        {
          "output_type": "execute_result",
          "data": {
            "text/html": [
              "<div>\n",
              "<style scoped>\n",
              "    .dataframe tbody tr th:only-of-type {\n",
              "        vertical-align: middle;\n",
              "    }\n",
              "\n",
              "    .dataframe tbody tr th {\n",
              "        vertical-align: top;\n",
              "    }\n",
              "\n",
              "    .dataframe thead th {\n",
              "        text-align: right;\n",
              "    }\n",
              "</style>\n",
              "<table border=\"1\" class=\"dataframe\">\n",
              "  <thead>\n",
              "    <tr style=\"text-align: right;\">\n",
              "      <th></th>\n",
              "      <th>year</th>\n",
              "      <th>quarter</th>\n",
              "      <th>realgdp</th>\n",
              "      <th>realcons</th>\n",
              "      <th>realinv</th>\n",
              "      <th>realgovt</th>\n",
              "      <th>realdpi</th>\n",
              "      <th>cpi</th>\n",
              "      <th>m1</th>\n",
              "      <th>tbilrate</th>\n",
              "      <th>unemp</th>\n",
              "      <th>pop</th>\n",
              "      <th>infl</th>\n",
              "      <th>realint</th>\n",
              "    </tr>\n",
              "  </thead>\n",
              "  <tbody>\n",
              "    <tr>\n",
              "      <th>0</th>\n",
              "      <td>1971</td>\n",
              "      <td>1</td>\n",
              "      <td>2710.349</td>\n",
              "      <td>1707.4</td>\n",
              "      <td>286.898</td>\n",
              "      <td>470.045</td>\n",
              "      <td>1886.9</td>\n",
              "      <td>28.98</td>\n",
              "      <td>139.7</td>\n",
              "      <td>2.82</td>\n",
              "      <td>5.8</td>\n",
              "      <td>177.146</td>\n",
              "      <td>0.00</td>\n",
              "      <td>0.00</td>\n",
              "    </tr>\n",
              "    <tr>\n",
              "      <th>1</th>\n",
              "      <td>1971</td>\n",
              "      <td>2</td>\n",
              "      <td>2778.801</td>\n",
              "      <td>1733.7</td>\n",
              "      <td>310.859</td>\n",
              "      <td>481.301</td>\n",
              "      <td>1919.7</td>\n",
              "      <td>29.15</td>\n",
              "      <td>141.7</td>\n",
              "      <td>3.08</td>\n",
              "      <td>5.1</td>\n",
              "      <td>177.830</td>\n",
              "      <td>2.34</td>\n",
              "      <td>0.74</td>\n",
              "    </tr>\n",
              "    <tr>\n",
              "      <th>2</th>\n",
              "      <td>1971</td>\n",
              "      <td>3</td>\n",
              "      <td>2775.488</td>\n",
              "      <td>1751.8</td>\n",
              "      <td>289.226</td>\n",
              "      <td>491.260</td>\n",
              "      <td>1916.4</td>\n",
              "      <td>29.35</td>\n",
              "      <td>140.5</td>\n",
              "      <td>3.82</td>\n",
              "      <td>5.3</td>\n",
              "      <td>178.657</td>\n",
              "      <td>2.74</td>\n",
              "      <td>1.09</td>\n",
              "    </tr>\n",
              "    <tr>\n",
              "      <th>3</th>\n",
              "      <td>1971</td>\n",
              "      <td>4</td>\n",
              "      <td>2785.204</td>\n",
              "      <td>1753.7</td>\n",
              "      <td>299.356</td>\n",
              "      <td>484.052</td>\n",
              "      <td>1931.3</td>\n",
              "      <td>29.37</td>\n",
              "      <td>140.0</td>\n",
              "      <td>4.33</td>\n",
              "      <td>5.6</td>\n",
              "      <td>179.386</td>\n",
              "      <td>0.27</td>\n",
              "      <td>4.06</td>\n",
              "    </tr>\n",
              "    <tr>\n",
              "      <th>4</th>\n",
              "      <td>1972</td>\n",
              "      <td>1</td>\n",
              "      <td>2847.699</td>\n",
              "      <td>1770.5</td>\n",
              "      <td>331.722</td>\n",
              "      <td>462.199</td>\n",
              "      <td>1955.5</td>\n",
              "      <td>29.54</td>\n",
              "      <td>139.6</td>\n",
              "      <td>3.50</td>\n",
              "      <td>5.2</td>\n",
              "      <td>180.007</td>\n",
              "      <td>2.31</td>\n",
              "      <td>1.19</td>\n",
              "    </tr>\n",
              "  </tbody>\n",
              "</table>\n",
              "</div>"
            ],
            "text/plain": [
              "   year  quarter   realgdp  realcons  ...  unemp      pop  infl  realint\n",
              "0  1971        1  2710.349    1707.4  ...    5.8  177.146  0.00     0.00\n",
              "1  1971        2  2778.801    1733.7  ...    5.1  177.830  2.34     0.74\n",
              "2  1971        3  2775.488    1751.8  ...    5.3  178.657  2.74     1.09\n",
              "3  1971        4  2785.204    1753.7  ...    5.6  179.386  0.27     4.06\n",
              "4  1972        1  2847.699    1770.5  ...    5.2  180.007  2.31     1.19\n",
              "\n",
              "[5 rows x 14 columns]"
            ]
          },
          "metadata": {},
          "execution_count": 94
        }
      ]
    },
    {
      "cell_type": "code",
      "metadata": {
        "colab": {
          "base_uri": "https://localhost:8080/",
          "height": 202
        },
        "id": "wSPNggI43Mfj",
        "outputId": "2880ed5e-3b5a-493d-f434-33f49f29217c"
      },
      "source": [
        "df.tail()"
      ],
      "execution_count": null,
      "outputs": [
        {
          "output_type": "execute_result",
          "data": {
            "text/html": [
              "<div>\n",
              "<style scoped>\n",
              "    .dataframe tbody tr th:only-of-type {\n",
              "        vertical-align: middle;\n",
              "    }\n",
              "\n",
              "    .dataframe tbody tr th {\n",
              "        vertical-align: top;\n",
              "    }\n",
              "\n",
              "    .dataframe thead th {\n",
              "        text-align: right;\n",
              "    }\n",
              "</style>\n",
              "<table border=\"1\" class=\"dataframe\">\n",
              "  <thead>\n",
              "    <tr style=\"text-align: right;\">\n",
              "      <th></th>\n",
              "      <th>year</th>\n",
              "      <th>quarter</th>\n",
              "      <th>realgdp</th>\n",
              "      <th>realcons</th>\n",
              "      <th>realinv</th>\n",
              "      <th>realgovt</th>\n",
              "      <th>realdpi</th>\n",
              "      <th>cpi</th>\n",
              "      <th>m1</th>\n",
              "      <th>tbilrate</th>\n",
              "      <th>unemp</th>\n",
              "      <th>pop</th>\n",
              "      <th>infl</th>\n",
              "      <th>realint</th>\n",
              "    </tr>\n",
              "  </thead>\n",
              "  <tbody>\n",
              "    <tr>\n",
              "      <th>198</th>\n",
              "      <td>2020</td>\n",
              "      <td>3</td>\n",
              "      <td>13324.600</td>\n",
              "      <td>9267.7</td>\n",
              "      <td>1990.693</td>\n",
              "      <td>991.551</td>\n",
              "      <td>9838.3</td>\n",
              "      <td>216.889</td>\n",
              "      <td>1474.7</td>\n",
              "      <td>1.17</td>\n",
              "      <td>6.0</td>\n",
              "      <td>305.270</td>\n",
              "      <td>-3.16</td>\n",
              "      <td>4.33</td>\n",
              "    </tr>\n",
              "    <tr>\n",
              "      <th>199</th>\n",
              "      <td>2020</td>\n",
              "      <td>4</td>\n",
              "      <td>13141.920</td>\n",
              "      <td>9195.3</td>\n",
              "      <td>1857.661</td>\n",
              "      <td>1007.273</td>\n",
              "      <td>9920.4</td>\n",
              "      <td>212.174</td>\n",
              "      <td>1576.5</td>\n",
              "      <td>0.12</td>\n",
              "      <td>6.9</td>\n",
              "      <td>305.952</td>\n",
              "      <td>-8.79</td>\n",
              "      <td>8.91</td>\n",
              "    </tr>\n",
              "    <tr>\n",
              "      <th>200</th>\n",
              "      <td>2021</td>\n",
              "      <td>1</td>\n",
              "      <td>12925.410</td>\n",
              "      <td>9209.2</td>\n",
              "      <td>1558.494</td>\n",
              "      <td>996.287</td>\n",
              "      <td>9926.4</td>\n",
              "      <td>212.671</td>\n",
              "      <td>1592.8</td>\n",
              "      <td>0.22</td>\n",
              "      <td>8.1</td>\n",
              "      <td>306.547</td>\n",
              "      <td>0.94</td>\n",
              "      <td>-0.71</td>\n",
              "    </tr>\n",
              "    <tr>\n",
              "      <th>201</th>\n",
              "      <td>2021</td>\n",
              "      <td>2</td>\n",
              "      <td>12901.504</td>\n",
              "      <td>9189.0</td>\n",
              "      <td>1456.678</td>\n",
              "      <td>1023.528</td>\n",
              "      <td>10077.5</td>\n",
              "      <td>214.469</td>\n",
              "      <td>1653.6</td>\n",
              "      <td>0.18</td>\n",
              "      <td>9.2</td>\n",
              "      <td>307.226</td>\n",
              "      <td>3.37</td>\n",
              "      <td>-3.19</td>\n",
              "    </tr>\n",
              "    <tr>\n",
              "      <th>202</th>\n",
              "      <td>2021</td>\n",
              "      <td>3</td>\n",
              "      <td>12990.341</td>\n",
              "      <td>9256.0</td>\n",
              "      <td>1486.398</td>\n",
              "      <td>1044.088</td>\n",
              "      <td>10040.6</td>\n",
              "      <td>216.385</td>\n",
              "      <td>1673.9</td>\n",
              "      <td>0.12</td>\n",
              "      <td>9.6</td>\n",
              "      <td>308.013</td>\n",
              "      <td>3.56</td>\n",
              "      <td>-3.44</td>\n",
              "    </tr>\n",
              "  </tbody>\n",
              "</table>\n",
              "</div>"
            ],
            "text/plain": [
              "     year  quarter    realgdp  realcons  ...  unemp      pop  infl  realint\n",
              "198  2020        3  13324.600    9267.7  ...    6.0  305.270 -3.16     4.33\n",
              "199  2020        4  13141.920    9195.3  ...    6.9  305.952 -8.79     8.91\n",
              "200  2021        1  12925.410    9209.2  ...    8.1  306.547  0.94    -0.71\n",
              "201  2021        2  12901.504    9189.0  ...    9.2  307.226  3.37    -3.19\n",
              "202  2021        3  12990.341    9256.0  ...    9.6  308.013  3.56    -3.44\n",
              "\n",
              "[5 rows x 14 columns]"
            ]
          },
          "metadata": {},
          "execution_count": 95
        }
      ]
    },
    {
      "cell_type": "code",
      "metadata": {
        "colab": {
          "base_uri": "https://localhost:8080/"
        },
        "id": "Ipy5UB4Usp9i",
        "outputId": "476694ff-42f7-4d40-9cec-9dd46fc63a01"
      },
      "source": [
        "#check shape of the dataset\n",
        "df.shape"
      ],
      "execution_count": null,
      "outputs": [
        {
          "output_type": "execute_result",
          "data": {
            "text/plain": [
              "(203, 14)"
            ]
          },
          "metadata": {},
          "execution_count": 96
        }
      ]
    },
    {
      "cell_type": "code",
      "metadata": {
        "colab": {
          "base_uri": "https://localhost:8080/"
        },
        "id": "QTnSxD-2sqEk",
        "outputId": "0bce1652-1d3d-41fc-9fd7-0fcc743f38fa"
      },
      "source": [
        "#check which features have how much non-null value\n",
        "df.info()"
      ],
      "execution_count": null,
      "outputs": [
        {
          "output_type": "stream",
          "text": [
            "<class 'pandas.core.frame.DataFrame'>\n",
            "RangeIndex: 203 entries, 0 to 202\n",
            "Data columns (total 14 columns):\n",
            " #   Column    Non-Null Count  Dtype  \n",
            "---  ------    --------------  -----  \n",
            " 0   year      203 non-null    int64  \n",
            " 1   quarter   203 non-null    int64  \n",
            " 2   realgdp   203 non-null    float64\n",
            " 3   realcons  203 non-null    float64\n",
            " 4   realinv   203 non-null    float64\n",
            " 5   realgovt  203 non-null    float64\n",
            " 6   realdpi   203 non-null    float64\n",
            " 7   cpi       203 non-null    float64\n",
            " 8   m1        203 non-null    float64\n",
            " 9   tbilrate  203 non-null    float64\n",
            " 10  unemp     203 non-null    float64\n",
            " 11  pop       203 non-null    float64\n",
            " 12  infl      203 non-null    float64\n",
            " 13  realint   203 non-null    float64\n",
            "dtypes: float64(12), int64(2)\n",
            "memory usage: 22.3 KB\n"
          ],
          "name": "stdout"
        }
      ]
    },
    {
      "cell_type": "code",
      "metadata": {
        "colab": {
          "base_uri": "https://localhost:8080/",
          "height": 314
        },
        "id": "MjTKl4sVsqL6",
        "outputId": "11600cd6-e1c5-4504-d449-f4d88931583d"
      },
      "source": [
        "df.describe()"
      ],
      "execution_count": null,
      "outputs": [
        {
          "output_type": "execute_result",
          "data": {
            "text/html": [
              "<div>\n",
              "<style scoped>\n",
              "    .dataframe tbody tr th:only-of-type {\n",
              "        vertical-align: middle;\n",
              "    }\n",
              "\n",
              "    .dataframe tbody tr th {\n",
              "        vertical-align: top;\n",
              "    }\n",
              "\n",
              "    .dataframe thead th {\n",
              "        text-align: right;\n",
              "    }\n",
              "</style>\n",
              "<table border=\"1\" class=\"dataframe\">\n",
              "  <thead>\n",
              "    <tr style=\"text-align: right;\">\n",
              "      <th></th>\n",
              "      <th>year</th>\n",
              "      <th>quarter</th>\n",
              "      <th>realgdp</th>\n",
              "      <th>realcons</th>\n",
              "      <th>realinv</th>\n",
              "      <th>realgovt</th>\n",
              "      <th>realdpi</th>\n",
              "      <th>cpi</th>\n",
              "      <th>m1</th>\n",
              "      <th>tbilrate</th>\n",
              "      <th>unemp</th>\n",
              "      <th>pop</th>\n",
              "      <th>infl</th>\n",
              "      <th>realint</th>\n",
              "    </tr>\n",
              "  </thead>\n",
              "  <tbody>\n",
              "    <tr>\n",
              "      <th>count</th>\n",
              "      <td>203.000000</td>\n",
              "      <td>203.000000</td>\n",
              "      <td>203.000000</td>\n",
              "      <td>203.000000</td>\n",
              "      <td>203.000000</td>\n",
              "      <td>203.000000</td>\n",
              "      <td>203.000000</td>\n",
              "      <td>203.000000</td>\n",
              "      <td>203.000000</td>\n",
              "      <td>203.000000</td>\n",
              "      <td>203.000000</td>\n",
              "      <td>203.000000</td>\n",
              "      <td>203.000000</td>\n",
              "      <td>203.000000</td>\n",
              "    </tr>\n",
              "    <tr>\n",
              "      <th>mean</th>\n",
              "      <td>1995.876847</td>\n",
              "      <td>2.492611</td>\n",
              "      <td>7221.171901</td>\n",
              "      <td>4825.293103</td>\n",
              "      <td>1012.863862</td>\n",
              "      <td>663.328640</td>\n",
              "      <td>5310.540887</td>\n",
              "      <td>105.075788</td>\n",
              "      <td>667.927586</td>\n",
              "      <td>5.311773</td>\n",
              "      <td>5.884729</td>\n",
              "      <td>239.724153</td>\n",
              "      <td>3.961330</td>\n",
              "      <td>1.336502</td>\n",
              "    </tr>\n",
              "    <tr>\n",
              "      <th>std</th>\n",
              "      <td>14.686817</td>\n",
              "      <td>1.118563</td>\n",
              "      <td>3214.956044</td>\n",
              "      <td>2313.346192</td>\n",
              "      <td>585.102267</td>\n",
              "      <td>140.863655</td>\n",
              "      <td>2423.515977</td>\n",
              "      <td>61.278878</td>\n",
              "      <td>455.346381</td>\n",
              "      <td>2.803071</td>\n",
              "      <td>1.458574</td>\n",
              "      <td>37.390450</td>\n",
              "      <td>3.253216</td>\n",
              "      <td>2.668799</td>\n",
              "    </tr>\n",
              "    <tr>\n",
              "      <th>min</th>\n",
              "      <td>1971.000000</td>\n",
              "      <td>1.000000</td>\n",
              "      <td>2710.349000</td>\n",
              "      <td>1707.400000</td>\n",
              "      <td>259.764000</td>\n",
              "      <td>460.400000</td>\n",
              "      <td>1886.900000</td>\n",
              "      <td>28.980000</td>\n",
              "      <td>139.600000</td>\n",
              "      <td>0.120000</td>\n",
              "      <td>3.400000</td>\n",
              "      <td>177.146000</td>\n",
              "      <td>-8.790000</td>\n",
              "      <td>-6.790000</td>\n",
              "    </tr>\n",
              "    <tr>\n",
              "      <th>25%</th>\n",
              "      <td>1983.000000</td>\n",
              "      <td>1.500000</td>\n",
              "      <td>4440.103500</td>\n",
              "      <td>2874.100000</td>\n",
              "      <td>519.147500</td>\n",
              "      <td>527.959500</td>\n",
              "      <td>3276.950000</td>\n",
              "      <td>41.050000</td>\n",
              "      <td>228.650000</td>\n",
              "      <td>3.515000</td>\n",
              "      <td>4.900000</td>\n",
              "      <td>208.631000</td>\n",
              "      <td>2.270000</td>\n",
              "      <td>-0.085000</td>\n",
              "    </tr>\n",
              "    <tr>\n",
              "      <th>50%</th>\n",
              "      <td>1996.000000</td>\n",
              "      <td>2.000000</td>\n",
              "      <td>6559.594000</td>\n",
              "      <td>4299.900000</td>\n",
              "      <td>896.210000</td>\n",
              "      <td>662.412000</td>\n",
              "      <td>4959.400000</td>\n",
              "      <td>104.100000</td>\n",
              "      <td>540.900000</td>\n",
              "      <td>5.010000</td>\n",
              "      <td>5.700000</td>\n",
              "      <td>236.348000</td>\n",
              "      <td>3.240000</td>\n",
              "      <td>1.340000</td>\n",
              "    </tr>\n",
              "    <tr>\n",
              "      <th>75%</th>\n",
              "      <td>2008.500000</td>\n",
              "      <td>3.000000</td>\n",
              "      <td>9629.346500</td>\n",
              "      <td>6398.150000</td>\n",
              "      <td>1436.681500</td>\n",
              "      <td>773.049000</td>\n",
              "      <td>6977.850000</td>\n",
              "      <td>159.650000</td>\n",
              "      <td>1102.100000</td>\n",
              "      <td>6.665000</td>\n",
              "      <td>6.800000</td>\n",
              "      <td>271.721500</td>\n",
              "      <td>4.975000</td>\n",
              "      <td>2.630000</td>\n",
              "    </tr>\n",
              "    <tr>\n",
              "      <th>max</th>\n",
              "      <td>2021.000000</td>\n",
              "      <td>4.000000</td>\n",
              "      <td>13415.266000</td>\n",
              "      <td>9363.600000</td>\n",
              "      <td>2264.721000</td>\n",
              "      <td>1044.088000</td>\n",
              "      <td>10077.500000</td>\n",
              "      <td>218.610000</td>\n",
              "      <td>1673.900000</td>\n",
              "      <td>15.330000</td>\n",
              "      <td>10.700000</td>\n",
              "      <td>308.013000</td>\n",
              "      <td>14.620000</td>\n",
              "      <td>10.950000</td>\n",
              "    </tr>\n",
              "  </tbody>\n",
              "</table>\n",
              "</div>"
            ],
            "text/plain": [
              "              year     quarter  ...        infl     realint\n",
              "count   203.000000  203.000000  ...  203.000000  203.000000\n",
              "mean   1995.876847    2.492611  ...    3.961330    1.336502\n",
              "std      14.686817    1.118563  ...    3.253216    2.668799\n",
              "min    1971.000000    1.000000  ...   -8.790000   -6.790000\n",
              "25%    1983.000000    1.500000  ...    2.270000   -0.085000\n",
              "50%    1996.000000    2.000000  ...    3.240000    1.340000\n",
              "75%    2008.500000    3.000000  ...    4.975000    2.630000\n",
              "max    2021.000000    4.000000  ...   14.620000   10.950000\n",
              "\n",
              "[8 rows x 14 columns]"
            ]
          },
          "metadata": {},
          "execution_count": 98
        }
      ]
    },
    {
      "cell_type": "markdown",
      "metadata": {
        "id": "FKocI2-iiq19"
      },
      "source": [
        "#***As we can observe, the first starting date is 1959 Quarter 1 and the ending date is 2009 Quarter 3. Therefore, creating a data range from 1971Q1 to 2021Q3 and assigning it to the index of the dataframe.***"
      ]
    },
    {
      "cell_type": "code",
      "metadata": {
        "id": "QGyqD3XTsqP8"
      },
      "source": [
        "index = pd.Index(sm.tsa.datetools.dates_from_range('1971Q1','2021Q3'))\n",
        "df.index = index"
      ],
      "execution_count": null,
      "outputs": []
    },
    {
      "cell_type": "code",
      "metadata": {
        "id": "mmuDeM_HsqUL",
        "colab": {
          "base_uri": "https://localhost:8080/",
          "height": 202
        },
        "outputId": "acad58fa-8cbd-4529-cb5b-b4b725564e25"
      },
      "source": [
        "df.head()"
      ],
      "execution_count": null,
      "outputs": [
        {
          "output_type": "execute_result",
          "data": {
            "text/html": [
              "<div>\n",
              "<style scoped>\n",
              "    .dataframe tbody tr th:only-of-type {\n",
              "        vertical-align: middle;\n",
              "    }\n",
              "\n",
              "    .dataframe tbody tr th {\n",
              "        vertical-align: top;\n",
              "    }\n",
              "\n",
              "    .dataframe thead th {\n",
              "        text-align: right;\n",
              "    }\n",
              "</style>\n",
              "<table border=\"1\" class=\"dataframe\">\n",
              "  <thead>\n",
              "    <tr style=\"text-align: right;\">\n",
              "      <th></th>\n",
              "      <th>year</th>\n",
              "      <th>quarter</th>\n",
              "      <th>realgdp</th>\n",
              "      <th>realcons</th>\n",
              "      <th>realinv</th>\n",
              "      <th>realgovt</th>\n",
              "      <th>realdpi</th>\n",
              "      <th>cpi</th>\n",
              "      <th>m1</th>\n",
              "      <th>tbilrate</th>\n",
              "      <th>unemp</th>\n",
              "      <th>pop</th>\n",
              "      <th>infl</th>\n",
              "      <th>realint</th>\n",
              "    </tr>\n",
              "  </thead>\n",
              "  <tbody>\n",
              "    <tr>\n",
              "      <th>1971-03-31</th>\n",
              "      <td>1971</td>\n",
              "      <td>1</td>\n",
              "      <td>2710.349</td>\n",
              "      <td>1707.4</td>\n",
              "      <td>286.898</td>\n",
              "      <td>470.045</td>\n",
              "      <td>1886.9</td>\n",
              "      <td>28.98</td>\n",
              "      <td>139.7</td>\n",
              "      <td>2.82</td>\n",
              "      <td>5.8</td>\n",
              "      <td>177.146</td>\n",
              "      <td>0.00</td>\n",
              "      <td>0.00</td>\n",
              "    </tr>\n",
              "    <tr>\n",
              "      <th>1971-06-30</th>\n",
              "      <td>1971</td>\n",
              "      <td>2</td>\n",
              "      <td>2778.801</td>\n",
              "      <td>1733.7</td>\n",
              "      <td>310.859</td>\n",
              "      <td>481.301</td>\n",
              "      <td>1919.7</td>\n",
              "      <td>29.15</td>\n",
              "      <td>141.7</td>\n",
              "      <td>3.08</td>\n",
              "      <td>5.1</td>\n",
              "      <td>177.830</td>\n",
              "      <td>2.34</td>\n",
              "      <td>0.74</td>\n",
              "    </tr>\n",
              "    <tr>\n",
              "      <th>1971-09-30</th>\n",
              "      <td>1971</td>\n",
              "      <td>3</td>\n",
              "      <td>2775.488</td>\n",
              "      <td>1751.8</td>\n",
              "      <td>289.226</td>\n",
              "      <td>491.260</td>\n",
              "      <td>1916.4</td>\n",
              "      <td>29.35</td>\n",
              "      <td>140.5</td>\n",
              "      <td>3.82</td>\n",
              "      <td>5.3</td>\n",
              "      <td>178.657</td>\n",
              "      <td>2.74</td>\n",
              "      <td>1.09</td>\n",
              "    </tr>\n",
              "    <tr>\n",
              "      <th>1971-12-31</th>\n",
              "      <td>1971</td>\n",
              "      <td>4</td>\n",
              "      <td>2785.204</td>\n",
              "      <td>1753.7</td>\n",
              "      <td>299.356</td>\n",
              "      <td>484.052</td>\n",
              "      <td>1931.3</td>\n",
              "      <td>29.37</td>\n",
              "      <td>140.0</td>\n",
              "      <td>4.33</td>\n",
              "      <td>5.6</td>\n",
              "      <td>179.386</td>\n",
              "      <td>0.27</td>\n",
              "      <td>4.06</td>\n",
              "    </tr>\n",
              "    <tr>\n",
              "      <th>1972-03-31</th>\n",
              "      <td>1972</td>\n",
              "      <td>1</td>\n",
              "      <td>2847.699</td>\n",
              "      <td>1770.5</td>\n",
              "      <td>331.722</td>\n",
              "      <td>462.199</td>\n",
              "      <td>1955.5</td>\n",
              "      <td>29.54</td>\n",
              "      <td>139.6</td>\n",
              "      <td>3.50</td>\n",
              "      <td>5.2</td>\n",
              "      <td>180.007</td>\n",
              "      <td>2.31</td>\n",
              "      <td>1.19</td>\n",
              "    </tr>\n",
              "  </tbody>\n",
              "</table>\n",
              "</div>"
            ],
            "text/plain": [
              "            year  quarter   realgdp  realcons  ...  unemp      pop  infl  realint\n",
              "1971-03-31  1971        1  2710.349    1707.4  ...    5.8  177.146  0.00     0.00\n",
              "1971-06-30  1971        2  2778.801    1733.7  ...    5.1  177.830  2.34     0.74\n",
              "1971-09-30  1971        3  2775.488    1751.8  ...    5.3  178.657  2.74     1.09\n",
              "1971-12-31  1971        4  2785.204    1753.7  ...    5.6  179.386  0.27     4.06\n",
              "1972-03-31  1972        1  2847.699    1770.5  ...    5.2  180.007  2.31     1.19\n",
              "\n",
              "[5 rows x 14 columns]"
            ]
          },
          "metadata": {},
          "execution_count": 100
        }
      ]
    },
    {
      "cell_type": "code",
      "metadata": {
        "id": "oehalB5pcWGu"
      },
      "source": [
        "#drop year and quarter because we have already converted into index\n",
        "df=df.drop(['year','quarter'],axis=1)"
      ],
      "execution_count": null,
      "outputs": []
    },
    {
      "cell_type": "code",
      "metadata": {
        "colab": {
          "base_uri": "https://localhost:8080/",
          "height": 724
        },
        "id": "kOuCh6MncOmF",
        "outputId": "4c64d549-38bc-4a3f-a267-a1552ef514ab"
      },
      "source": [
        "#plot the trend of each feature\n",
        "fig, axes = plt.subplots(nrows=5, ncols=2, dpi=120, figsize=(10,6))\n",
        "for i, ax in enumerate(axes.flatten()):\n",
        "    data = df[df.columns[i]]\n",
        "    ax.plot(data, color='red', linewidth=1)\n",
        "    # Decorations\n",
        "    ax.set_title(df.columns[i])\n",
        "    ax.xaxis.set_ticks_position('none')\n",
        "    ax.yaxis.set_ticks_position('none')\n",
        "    ax.spines[\"top\"].set_alpha(0)\n",
        "    ax.tick_params(labelsize=6)\n",
        "\n",
        "plt.tight_layout();"
      ],
      "execution_count": null,
      "outputs": [
        {
          "output_type": "display_data",
          "data": {
            "image/png": "[encoded data removed]",
            "text/plain": [
              "<Figure size 1200x720 with 10 Axes>"
            ]
          },
          "metadata": {
            "needs_background": "light"
          }
        }
      ]
    },
    {
      "cell_type": "markdown",
      "metadata": {
        "id": "mmJcjCDEE08Q"
      },
      "source": [
        "#**we will use one popular statistical test – Augmented Dickey-Fuller Test (ADF Test) to check the stationary of variable.**"
      ]
    },
    {
      "cell_type": "markdown",
      "metadata": {
        "id": "U3s3owBhFTh_"
      },
      "source": [
        "#**we use adfuller function in the statsmodels package for stationary test of variables. The Null Hypothesis is that the data has unit root and is not stationary and the significant value is 0.05**"
      ]
    },
    {
      "cell_type": "code",
      "metadata": {
        "colab": {
          "base_uri": "https://localhost:8080/"
        },
        "id": "G9fW-o2ETTlO",
        "outputId": "2ce3fb64-0742-439c-f12a-eb511eb3f5d5"
      },
      "source": [
        "ad_fuller_result_1 = adfuller(df['realgdp'])\n",
        "\n",
        "print('realgdp')\n",
        "print(f'ADF Statistic: {ad_fuller_result_1[0]}')\n",
        "print(f'p-value: {ad_fuller_result_1[1]}')\n",
        "\n",
        "print('\\n---------------------\\n')\n",
        "\n",
        "ad_fuller_result_2 = adfuller(df['realcons'])\n",
        "\n",
        "print('realcons')\n",
        "print(f'ADF Statistic: {ad_fuller_result_2[0]}')\n",
        "print(f'p-value: {ad_fuller_result_2[1]}')"
      ],
      "execution_count": null,
      "outputs": [
        {
          "output_type": "stream",
          "text": [
            "realgdp\n",
            "ADF Statistic: 1.7504627967647217\n",
            "p-value: 0.9982455372335032\n",
            "\n",
            "---------------------\n",
            "\n",
            "realcons\n",
            "ADF Statistic: 1.549912338050964\n",
            "p-value: 0.9976992503412904\n"
          ],
          "name": "stdout"
        }
      ]
    },
    {
      "cell_type": "code",
      "metadata": {
        "colab": {
          "base_uri": "https://localhost:8080/"
        },
        "id": "onqNU6S2c21H",
        "outputId": "4358cd43-05a6-4506-f927-d58b080dc08b"
      },
      "source": [
        "ad_fuller_result_1 = adfuller(df['realgdp'].diff()[1:])\n",
        "\n",
        "print('realgdp')\n",
        "print(f'ADF Statistic: {ad_fuller_result_1[0]}')\n",
        "print(f'p-value: {ad_fuller_result_1[1]}')\n",
        "\n",
        "print('\\n---------------------\\n')\n",
        "\n",
        "ad_fuller_result_2 = adfuller(df['realcons'].diff()[1:])\n",
        "\n",
        "print('realcons')\n",
        "print(f'ADF Statistic: {ad_fuller_result_2[0]}')\n",
        "print(f'p-value: {ad_fuller_result_2[1]}')"
      ],
      "execution_count": null,
      "outputs": [
        {
          "output_type": "stream",
          "text": [
            "realgdp\n",
            "ADF Statistic: -6.305695561658111\n",
            "p-value: 3.3278821876681194e-08\n",
            "\n",
            "---------------------\n",
            "\n",
            "realcons\n",
            "ADF Statistic: -4.204306080845249\n",
            "p-value: 0.0006479282158627514\n"
          ],
          "name": "stdout"
        }
      ]
    },
    {
      "cell_type": "code",
      "metadata": {
        "colab": {
          "base_uri": "https://localhost:8080/"
        },
        "id": "Uq7EUZbsc25M",
        "outputId": "c435bb60-d8eb-43aa-f92d-9b3d11154a2d"
      },
      "source": [
        "\n",
        "print('realgdp causes realcons ?\\n')\n",
        "print('------------------')\n",
        "granger_1 = grangercausalitytests(df[['realcons', 'realgdp']], 4)\n",
        "\n",
        "print('\\realcons causes realgdp ?\\n')\n",
        "print('------------------')\n",
        "granger_2 = grangercausalitytests(df[['realgdp', 'realcons']], 4)"
      ],
      "execution_count": null,
      "outputs": [
        {
          "output_type": "stream",
          "text": [
            "realgdp causes realcons ?\n",
            "\n",
            "------------------\n",
            "\n",
            "Granger Causality\n",
            "number of lags (no zero) 1\n",
            "ssr based F test:         F=6.6290  , p=0.0108  , df_denom=199, df_num=1\n",
            "ssr based chi2 test:   chi2=6.7289  , p=0.0095  , df=1\n",
            "likelihood ratio test: chi2=6.6193  , p=0.0101  , df=1\n",
            "parameter F test:         F=6.6290  , p=0.0108  , df_denom=199, df_num=1\n",
            "\n",
            "Granger Causality\n",
            "number of lags (no zero) 2\n",
            "ssr based F test:         F=2.5221  , p=0.0829  , df_denom=196, df_num=2\n",
            "ssr based chi2 test:   chi2=5.1729  , p=0.0753  , df=2\n",
            "likelihood ratio test: chi2=5.1074  , p=0.0778  , df=2\n",
            "parameter F test:         F=2.5221  , p=0.0829  , df_denom=196, df_num=2\n",
            "\n",
            "Granger Causality\n",
            "number of lags (no zero) 3\n",
            "ssr based F test:         F=0.6062  , p=0.6117  , df_denom=193, df_num=3\n",
            "ssr based chi2 test:   chi2=1.8845  , p=0.5967  , df=3\n",
            "likelihood ratio test: chi2=1.8756  , p=0.5986  , df=3\n",
            "parameter F test:         F=0.6062  , p=0.6117  , df_denom=193, df_num=3\n",
            "\n",
            "Granger Causality\n",
            "number of lags (no zero) 4\n",
            "ssr based F test:         F=2.9561  , p=0.0212  , df_denom=190, df_num=4\n",
            "ssr based chi2 test:   chi2=12.3844 , p=0.0147  , df=4\n",
            "likelihood ratio test: chi2=12.0143 , p=0.0172  , df=4\n",
            "parameter F test:         F=2.9561  , p=0.0212  , df_denom=190, df_num=4\n",
            "\realcons causes realgdp ?\n",
            "\n",
            "------------------\n",
            "\n",
            "Granger Causality\n",
            "number of lags (no zero) 1\n",
            "ssr based F test:         F=0.1851  , p=0.6675  , df_denom=199, df_num=1\n",
            "ssr based chi2 test:   chi2=0.1879  , p=0.6646  , df=1\n",
            "likelihood ratio test: chi2=0.1878  , p=0.6647  , df=1\n",
            "parameter F test:         F=0.1851  , p=0.6675  , df_denom=199, df_num=1\n",
            "\n",
            "Granger Causality\n",
            "number of lags (no zero) 2\n",
            "ssr based F test:         F=22.9218 , p=0.0000  , df_denom=196, df_num=2\n",
            "ssr based chi2 test:   chi2=47.0132 , p=0.0000  , df=2\n",
            "likelihood ratio test: chi2=42.2456 , p=0.0000  , df=2\n",
            "parameter F test:         F=22.9218 , p=0.0000  , df_denom=196, df_num=2\n",
            "\n",
            "Granger Causality\n",
            "number of lags (no zero) 3\n",
            "ssr based F test:         F=20.8505 , p=0.0000  , df_denom=193, df_num=3\n",
            "ssr based chi2 test:   chi2=64.8202 , p=0.0000  , df=3\n",
            "likelihood ratio test: chi2=56.1467 , p=0.0000  , df=3\n",
            "parameter F test:         F=20.8505 , p=0.0000  , df_denom=193, df_num=3\n",
            "\n",
            "Granger Causality\n",
            "number of lags (no zero) 4\n",
            "ssr based F test:         F=16.8883 , p=0.0000  , df_denom=190, df_num=4\n",
            "ssr based chi2 test:   chi2=70.7532 , p=0.0000  , df=4\n",
            "likelihood ratio test: chi2=60.5363 , p=0.0000  , df=4\n",
            "parameter F test:         F=16.8883 , p=0.0000  , df_denom=190, df_num=4\n"
          ],
          "name": "stdout"
        }
      ]
    },
    {
      "cell_type": "code",
      "metadata": {
        "colab": {
          "base_uri": "https://localhost:8080/"
        },
        "id": "qSVVH_Usc28y",
        "outputId": "aead9d3c-7398-4320-a2a0-8b7cf5d4d74c"
      },
      "source": [
        "#Take only two variable i.e realcons and realgdp \n",
        "df = df[['realcons','realgdp']]\n",
        "print(df.shape)"
      ],
      "execution_count": null,
      "outputs": [
        {
          "output_type": "stream",
          "text": [
            "(203, 2)\n"
          ],
          "name": "stdout"
        }
      ]
    },
    {
      "cell_type": "code",
      "metadata": {
        "id": "iflgd-DUc3AO"
      },
      "source": [
        "#train test split\n",
        "train_df=df[:-5]\n",
        "test_df=df[-5:]"
      ],
      "execution_count": null,
      "outputs": []
    },
    {
      "cell_type": "code",
      "metadata": {
        "colab": {
          "base_uri": "https://localhost:8080/"
        },
        "id": "Pf5B7UF2c3EG",
        "outputId": "1c55be8e-a41d-482d-849e-d14aaad2df95"
      },
      "source": [
        "print(train_df.shape)\n",
        "print(test_df.shape)"
      ],
      "execution_count": null,
      "outputs": [
        {
          "output_type": "stream",
          "text": [
            "(198, 2)\n",
            "(5, 2)\n"
          ],
          "name": "stdout"
        }
      ]
    },
    {
      "cell_type": "code",
      "metadata": {
        "id": "qsoDoMMwc3F9"
      },
      "source": [
        "model = VAR(train_df.diff()[1:])"
      ],
      "execution_count": null,
      "outputs": []
    },
    {
      "cell_type": "code",
      "metadata": {
        "colab": {
          "base_uri": "https://localhost:8080/"
        },
        "id": "xDRSWULvc3J5",
        "outputId": "2acfcd2b-f945-42c6-be46-146853ff8856"
      },
      "source": [
        "#chose the best value of  Order Selection\n",
        "sorted_order=model.select_order(maxlags=20)\n",
        "print(sorted_order.summary())"
      ],
      "execution_count": null,
      "outputs": [
        {
          "output_type": "stream",
          "text": [
            " VAR Order Selection (* highlights the minimums)  \n",
            "==================================================\n",
            "       AIC         BIC         FPE         HQIC   \n",
            "--------------------------------------------------\n",
            "0        14.47       14.51   1.929e+06       14.49\n",
            "1        14.20      14.31*   1.473e+06       14.25\n",
            "2        14.15       14.33   1.400e+06       14.22\n",
            "3       14.07*       14.32  1.287e+06*      14.17*\n",
            "4        14.11       14.43   1.344e+06       14.24\n",
            "5        14.13       14.53   1.373e+06       14.29\n",
            "6        14.17       14.64   1.432e+06       14.36\n",
            "7        14.17       14.71   1.429e+06       14.39\n",
            "8        14.17       14.78   1.432e+06       14.42\n",
            "9        14.20       14.88   1.473e+06       14.48\n",
            "10       14.23       14.98   1.516e+06       14.53\n",
            "11       14.26       15.09   1.567e+06       14.60\n",
            "12       14.25       15.15   1.547e+06       14.61\n",
            "13       14.25       15.22   1.551e+06       14.64\n",
            "14       14.27       15.31   1.582e+06       14.69\n",
            "15       14.30       15.41   1.629e+06       14.75\n",
            "16       14.31       15.50   1.660e+06       14.79\n",
            "17       14.34       15.60   1.711e+06       14.85\n",
            "18       14.37       15.70   1.771e+06       14.91\n",
            "19       14.40       15.80   1.824e+06       14.97\n",
            "20       14.43       15.90   1.877e+06       15.02\n",
            "--------------------------------------------------\n"
          ],
          "name": "stdout"
        }
      ]
    },
    {
      "cell_type": "markdown",
      "metadata": {
        "id": "0ddUTqXmpsqa"
      },
      "source": [
        "#**Model Training**"
      ]
    },
    {
      "cell_type": "code",
      "metadata": {
        "colab": {
          "base_uri": "https://localhost:8080/"
        },
        "id": "IWTTBGbVc3Lw",
        "outputId": "82fbfa61-bd37-4841-8379-7b8e293373c6"
      },
      "source": [
        "#model fitting with best hyperparameters\n",
        "var_model = VARMAX(train_df, order=(3,0),enforce_stationarity= True)\n",
        "fitted_model = var_model.fit(disp=False)\n",
        "print(fitted_model.summary())"
      ],
      "execution_count": null,
      "outputs": [
        {
          "output_type": "stream",
          "text": [
            "                              Statespace Model Results                             \n",
            "===================================================================================\n",
            "Dep. Variable:     ['realcons', 'realgdp']   No. Observations:                  198\n",
            "Model:                              VAR(3)   Log Likelihood               -1946.565\n",
            "                               + intercept   AIC                           3927.130\n",
            "Date:                     Sun, 22 Aug 2021   BIC                           3983.030\n",
            "Time:                             13:59:23   HQIC                          3949.756\n",
            "Sample:                         03-31-1971                                         \n",
            "                              - 06-30-2020                                         \n",
            "Covariance Type:                       opg                                         \n",
            "===================================================================================\n",
            "Ljung-Box (Q):                49.50, 36.60   Jarque-Bera (JB):           4.30, 3.27\n",
            "Prob(Q):                        0.14, 0.62   Prob(JB):                   0.12, 0.19\n",
            "Heteroskedasticity (H):         1.83, 2.67   Skew:                       0.04, 0.05\n",
            "Prob(H) (two-sided):            0.02, 0.00   Kurtosis:                   3.72, 3.62\n",
            "                         Results for equation realcons                         \n",
            "===============================================================================\n",
            "                  coef    std err          z      P>|z|      [0.025      0.975]\n",
            "-------------------------------------------------------------------------------\n",
            "intercept     -10.9566      9.537     -1.149      0.251     -29.649       7.736\n",
            "L1.realcons     1.2906      0.079     16.421      0.000       1.137       1.445\n",
            "L1.realgdp      0.0060      0.053      0.115      0.909      -0.097       0.109\n",
            "L2.realcons     0.0534      0.140      0.382      0.702      -0.221       0.327\n",
            "L2.realgdp      0.0678      0.085      0.798      0.425      -0.099       0.234\n",
            "L3.realcons    -0.3749      0.111     -3.364      0.001      -0.593      -0.156\n",
            "L3.realgdp     -0.0510      0.069     -0.742      0.458      -0.186       0.084\n",
            "                          Results for equation realgdp                         \n",
            "===============================================================================\n",
            "                  coef    std err          z      P>|z|      [0.025      0.975]\n",
            "-------------------------------------------------------------------------------\n",
            "intercept      28.1617     13.495      2.087      0.037       1.713      54.611\n",
            "L1.realcons     0.9163      0.134      6.857      0.000       0.654       1.178\n",
            "L1.realgdp      0.8763      0.082     10.637      0.000       0.715       1.038\n",
            "L2.realcons    -0.2378      0.188     -1.268      0.205      -0.605       0.130\n",
            "L2.realgdp      0.1518      0.112      1.353      0.176      -0.068       0.372\n",
            "L3.realcons    -0.6114      0.131     -4.667      0.000      -0.868      -0.355\n",
            "L3.realgdp     -0.0782      0.079     -0.992      0.321      -0.233       0.076\n",
            "                                   Error covariance matrix                                   \n",
            "=============================================================================================\n",
            "                                coef    std err          z      P>|z|      [0.025      0.975]\n",
            "---------------------------------------------------------------------------------------------\n",
            "sqrt.var.realcons            28.1298      1.425     19.746      0.000      25.338      30.922\n",
            "sqrt.cov.realcons.realgdp    23.3501      2.481      9.412      0.000      18.487      28.213\n",
            "sqrt.var.realgdp             36.7764      1.678     21.916      0.000      33.487      40.065\n",
            "=============================================================================================\n",
            "\n",
            "Warnings:\n",
            "[1] Covariance matrix calculated using the outer product of gradients (complex-step).\n"
          ],
          "name": "stdout"
        }
      ]
    },
    {
      "cell_type": "markdown",
      "metadata": {
        "id": "cand7JNNp6aB"
      },
      "source": [
        "#**Model Testing**"
      ]
    },
    {
      "cell_type": "code",
      "metadata": {
        "id": "HfwbMO3hc3Oe"
      },
      "source": [
        "n_forecast = 5\n",
        "predict = fitted_model.get_prediction(start=len(train_df),end=len(train_df) + n_forecast-1)#start=\"2020-09-30\",end='2021-09-30\t')\n",
        "predictions=predict.predicted_mean"
      ],
      "execution_count": null,
      "outputs": []
    },
    {
      "cell_type": "code",
      "metadata": {
        "colab": {
          "base_uri": "https://localhost:8080/",
          "height": 202
        },
        "id": "o_bTtxTac3Sg",
        "outputId": "42abd602-ab96-49da-d8ef-350b9fb0f832"
      },
      "source": [
        "#create a dataframe of predicted data\n",
        "predictions.columns=['realcons_predicted','realgdp_predicted']\n",
        "predictions"
      ],
      "execution_count": null,
      "outputs": [
        {
          "output_type": "execute_result",
          "data": {
            "text/html": [
              "<div>\n",
              "<style scoped>\n",
              "    .dataframe tbody tr th:only-of-type {\n",
              "        vertical-align: middle;\n",
              "    }\n",
              "\n",
              "    .dataframe tbody tr th {\n",
              "        vertical-align: top;\n",
              "    }\n",
              "\n",
              "    .dataframe thead th {\n",
              "        text-align: right;\n",
              "    }\n",
              "</style>\n",
              "<table border=\"1\" class=\"dataframe\">\n",
              "  <thead>\n",
              "    <tr style=\"text-align: right;\">\n",
              "      <th></th>\n",
              "      <th>realcons_predicted</th>\n",
              "      <th>realgdp_predicted</th>\n",
              "    </tr>\n",
              "  </thead>\n",
              "  <tbody>\n",
              "    <tr>\n",
              "      <th>2020-09-30</th>\n",
              "      <td>9350.954948</td>\n",
              "      <td>13386.250243</td>\n",
              "    </tr>\n",
              "    <tr>\n",
              "      <th>2020-12-31</th>\n",
              "      <td>9360.570509</td>\n",
              "      <td>13378.263772</td>\n",
              "    </tr>\n",
              "    <tr>\n",
              "      <th>2021-03-31</th>\n",
              "      <td>9367.968322</td>\n",
              "      <td>13371.040039</td>\n",
              "    </tr>\n",
              "    <tr>\n",
              "      <th>2021-06-30</th>\n",
              "      <td>9378.941458</td>\n",
              "      <td>13370.285056</td>\n",
              "    </tr>\n",
              "    <tr>\n",
              "      <th>2021-09-30</th>\n",
              "      <td>9389.806975</td>\n",
              "      <td>13371.567072</td>\n",
              "    </tr>\n",
              "  </tbody>\n",
              "</table>\n",
              "</div>"
            ],
            "text/plain": [
              "            realcons_predicted  realgdp_predicted\n",
              "2020-09-30         9350.954948       13386.250243\n",
              "2020-12-31         9360.570509       13378.263772\n",
              "2021-03-31         9367.968322       13371.040039\n",
              "2021-06-30         9378.941458       13370.285056\n",
              "2021-09-30         9389.806975       13371.567072"
            ]
          },
          "metadata": {},
          "execution_count": 113
        }
      ]
    },
    {
      "cell_type": "code",
      "metadata": {
        "id": "WIGvcamSc3Ur"
      },
      "source": [
        "test_vs_pred=pd.concat([test_df,predictions],axis=1)"
      ],
      "execution_count": null,
      "outputs": []
    },
    {
      "cell_type": "code",
      "metadata": {
        "colab": {
          "base_uri": "https://localhost:8080/",
          "height": 348
        },
        "id": "tXalCC5Qf3C9",
        "outputId": "4c5fcc72-4bf3-4350-a193-c3aa4af49e8d"
      },
      "source": [
        "test_vs_pred.plot(figsize=(12,5))"
      ],
      "execution_count": null,
      "outputs": [
        {
          "output_type": "execute_result",
          "data": {
            "text/plain": [
              "<matplotlib.axes._subplots.AxesSubplot at 0x7f0632ee8c50>"
            ]
          },
          "metadata": {},
          "execution_count": 115
        },
        {
          "output_type": "display_data",
          "data": {
            "image/png": "[encoded data removed]",
            "text/plain": [
              "<Figure size 864x360 with 1 Axes>"
            ]
          },
          "metadata": {
            "needs_background": "light"
          }
        }
      ]
    },
    {
      "cell_type": "markdown",
      "metadata": {
        "id": "kSIuYJ3E_5FJ"
      },
      "source": [
        "#**Model evaluation**"
      ]
    },
    {
      "cell_type": "code",
      "metadata": {
        "colab": {
          "base_uri": "https://localhost:8080/"
        },
        "id": "RDbAfKuVf3F1",
        "outputId": "486709de-e05b-4983-b2b7-ab96dd518592"
      },
      "source": [
        "from sklearn.metrics import mean_squared_error\n",
        "import math \n",
        "from statistics import mean\n",
        "\n",
        "rmse_realgdp=math.sqrt(mean_squared_error(test_df['realgdp'],predictions['realgdp_predicted']))\n",
        "print('Mean value of realgdp is : {}. Root Mean Squared Error is :{}'.format(mean(test_df['realgdp']),rmse_realgdp))\n",
        "\n",
        "rmse_realcons=math.sqrt(mean_squared_error(test_df['realcons'],predictions['realcons_predicted']))\n",
        "print('Mean value of realcons is : {}. Root Mean Squared Error is :{}'.format(mean(test_df['realcons']),rmse_realcons))"
      ],
      "execution_count": null,
      "outputs": [
        {
          "output_type": "stream",
          "text": [
            "Mean value of realgdp is : 13056.755. Root Mean Squared Error is :353.0819334068914\n",
            "Mean value of realcons is : 9223.44. Root Mean Squared Error is :150.6221574328316\n"
          ],
          "name": "stdout"
        }
      ]
    },
    {
      "cell_type": "markdown",
      "metadata": {
        "id": "9Y91fI4DLWUt"
      },
      "source": [
        "#**Accuracy**"
      ]
    },
    {
      "cell_type": "code",
      "metadata": {
        "id": "LLllKsB7HI1g"
      },
      "source": [
        "def mean_absolute_percentage_error(y_true, y_pred): \n",
        "    return np.mean(np.abs((y_true - y_pred) / y_true)) * 100"
      ],
      "execution_count": null,
      "outputs": []
    },
    {
      "cell_type": "code",
      "metadata": {
        "colab": {
          "base_uri": "https://localhost:8080/"
        },
        "id": "6-6ZakydHaQ-",
        "outputId": "394181ba-fb65-4aa4-d2a4-785a96898e78"
      },
      "source": [
        "error = mean_absolute_percentage_error(test_df['realgdp'],predictions['realgdp_predicted'])\n",
        "print(\"Mean Absolute Percentage Error of realgdp is : {0:.2f}%\".format(error))\n",
        "accuracy=(100-error)\n",
        "print(\"Accuracy of  of realgdp is : {0:.2f}%\".format(accuracy))"
      ],
      "execution_count": null,
      "outputs": [
        {
          "output_type": "stream",
          "text": [
            "Mean Absolute Percentage Error of realgdp is : 2.46%\n",
            "Accuracy of  of realgdp is : 97.54%\n"
          ],
          "name": "stdout"
        }
      ]
    },
    {
      "cell_type": "markdown",
      "metadata": {
        "id": "vZ3vLJyRIuOv"
      },
      "source": [
        "#**Our model was wrong by  2.46% on average, which is very, very good**"
      ]
    },
    {
      "cell_type": "markdown",
      "metadata": {
        "id": "lx1czCXKLN1X"
      },
      "source": [
        "#**Accuracy of  of realgdp is : 97.54%**"
      ]
    },
    {
      "cell_type": "markdown",
      "metadata": {
        "id": "R8JWnxQy_-NH"
      },
      "source": [
        "#**Forecast Gross Domestic Product (realgdp) for next 6 quarter.**\n"
      ]
    },
    {
      "cell_type": "code",
      "metadata": {
        "id": "LXfi_KhtCQdM"
      },
      "source": [
        "n_forecast = 11\n",
        "predict = fitted_model.get_prediction(start=len(train_df),end=len(train_df) + n_forecast-1)\n",
        "predictions=predict.predicted_mean"
      ],
      "execution_count": null,
      "outputs": []
    },
    {
      "cell_type": "code",
      "metadata": {
        "colab": {
          "base_uri": "https://localhost:8080/",
          "height": 387
        },
        "id": "80kihkoyCQgV",
        "outputId": "b2c9917d-295f-4fc1-ffb5-41fd5ff2ceab"
      },
      "source": [
        "predictions.columns=['realcons_predicted','realgdp_predicted']\n",
        "predictions"
      ],
      "execution_count": null,
      "outputs": [
        {
          "output_type": "execute_result",
          "data": {
            "text/html": [
              "<div>\n",
              "<style scoped>\n",
              "    .dataframe tbody tr th:only-of-type {\n",
              "        vertical-align: middle;\n",
              "    }\n",
              "\n",
              "    .dataframe tbody tr th {\n",
              "        vertical-align: top;\n",
              "    }\n",
              "\n",
              "    .dataframe thead th {\n",
              "        text-align: right;\n",
              "    }\n",
              "</style>\n",
              "<table border=\"1\" class=\"dataframe\">\n",
              "  <thead>\n",
              "    <tr style=\"text-align: right;\">\n",
              "      <th></th>\n",
              "      <th>realcons_predicted</th>\n",
              "      <th>realgdp_predicted</th>\n",
              "    </tr>\n",
              "  </thead>\n",
              "  <tbody>\n",
              "    <tr>\n",
              "      <th>2020-09-30</th>\n",
              "      <td>9350.954948</td>\n",
              "      <td>13386.250243</td>\n",
              "    </tr>\n",
              "    <tr>\n",
              "      <th>2020-12-31</th>\n",
              "      <td>9360.570509</td>\n",
              "      <td>13378.263772</td>\n",
              "    </tr>\n",
              "    <tr>\n",
              "      <th>2021-03-31</th>\n",
              "      <td>9367.968322</td>\n",
              "      <td>13371.040039</td>\n",
              "    </tr>\n",
              "    <tr>\n",
              "      <th>2021-06-30</th>\n",
              "      <td>9378.941458</td>\n",
              "      <td>13370.285056</td>\n",
              "    </tr>\n",
              "    <tr>\n",
              "      <th>2021-09-30</th>\n",
              "      <td>9389.806975</td>\n",
              "      <td>13371.567072</td>\n",
              "    </tr>\n",
              "    <tr>\n",
              "      <th>2021-12-31</th>\n",
              "      <td>9401.967958</td>\n",
              "      <td>13375.963723</td>\n",
              "    </tr>\n",
              "    <tr>\n",
              "      <th>2022-03-31</th>\n",
              "      <td>9414.281775</td>\n",
              "      <td>13381.919883</td>\n",
              "    </tr>\n",
              "    <tr>\n",
              "      <th>2022-06-30</th>\n",
              "      <td>9427.019077</td>\n",
              "      <td>13389.454042</td>\n",
              "    </tr>\n",
              "    <tr>\n",
              "      <th>2022-09-30</th>\n",
              "      <td>9439.781845</td>\n",
              "      <td>13397.923898</td>\n",
              "    </tr>\n",
              "    <tr>\n",
              "      <th>2022-12-31</th>\n",
              "      <td>9452.575902</td>\n",
              "      <td>13407.160553</td>\n",
              "    </tr>\n",
              "    <tr>\n",
              "      <th>2023-03-31</th>\n",
              "      <td>9465.240527</td>\n",
              "      <td>13416.851542</td>\n",
              "    </tr>\n",
              "  </tbody>\n",
              "</table>\n",
              "</div>"
            ],
            "text/plain": [
              "            realcons_predicted  realgdp_predicted\n",
              "2020-09-30         9350.954948       13386.250243\n",
              "2020-12-31         9360.570509       13378.263772\n",
              "2021-03-31         9367.968322       13371.040039\n",
              "2021-06-30         9378.941458       13370.285056\n",
              "2021-09-30         9389.806975       13371.567072\n",
              "2021-12-31         9401.967958       13375.963723\n",
              "2022-03-31         9414.281775       13381.919883\n",
              "2022-06-30         9427.019077       13389.454042\n",
              "2022-09-30         9439.781845       13397.923898\n",
              "2022-12-31         9452.575902       13407.160553\n",
              "2023-03-31         9465.240527       13416.851542"
            ]
          },
          "metadata": {},
          "execution_count": 120
        }
      ]
    },
    {
      "cell_type": "code",
      "metadata": {
        "id": "BxdnnB91CQkJ"
      },
      "source": [
        "test_vs_pred=pd.concat([test_df,predictions],axis=1)"
      ],
      "execution_count": null,
      "outputs": []
    },
    {
      "cell_type": "markdown",
      "metadata": {
        "id": "E3O0k_UyLxtf"
      },
      "source": [
        "#**Prediction for next 6 quarters**"
      ]
    },
    {
      "cell_type": "code",
      "metadata": {
        "colab": {
          "base_uri": "https://localhost:8080/",
          "height": 348
        },
        "id": "J7uc2nrwCQnW",
        "outputId": "ace60bac-7817-4241-9060-bdd0f0608b70"
      },
      "source": [
        "test_vs_pred.plot(figsize=(12,5))"
      ],
      "execution_count": null,
      "outputs": [
        {
          "output_type": "execute_result",
          "data": {
            "text/plain": [
              "<matplotlib.axes._subplots.AxesSubplot at 0x7f0632f4ad90>"
            ]
          },
          "metadata": {},
          "execution_count": 122
        },
        {
          "output_type": "display_data",
          "data": {
            "image/png": "[encoded data removed]",
            "text/plain": [
              "<Figure size 864x360 with 1 Axes>"
            ]
          },
          "metadata": {
            "needs_background": "light"
          }
        }
      ]
    },
    {
      "cell_type": "code",
      "metadata": {
        "id": "RX7QsZySCQqH"
      },
      "source": [
        ""
      ],
      "execution_count": null,
      "outputs": []
    }
  ]
}